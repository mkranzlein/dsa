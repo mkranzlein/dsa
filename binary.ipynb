{
 "cells": [
  {
   "cell_type": "markdown",
   "metadata": {},
   "source": [
    "- Logical operations (`and`, `or`, `xor`)\n",
    "- Bitwise operations\n",
    "- 2's complement\n",
    "- Octal and hexadecimal\n",
    "- Shift operations\n",
    "- Floating point numbers\n",
    "- Parity\n"
   ]
  }
 ],
 "metadata": {
  "language_info": {
   "name": "python"
  }
 },
 "nbformat": 4,
 "nbformat_minor": 2
}

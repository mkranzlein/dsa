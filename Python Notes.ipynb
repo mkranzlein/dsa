{
 "cells": [
  {
   "cell_type": "markdown",
   "metadata": {},
   "source": [
    "# Python Notes\n",
    "Useful data structures, syntax, and idioms for interviews focused on data structures and algorithms (DSA)\n"
   ]
  },
  {
   "cell_type": "markdown",
   "metadata": {},
   "source": [
    "## Relevant Python Data Structures\n",
    "- Heaps\n",
    "- Counters\n",
    "- Queues\n",
    "- defaultdict\n",
    "- set\n",
    "- list\n",
    "- tuples\n",
    "- dict"
   ]
  },
  {
   "cell_type": "markdown",
   "metadata": {},
   "source": [
    "### Heaps\n",
    "```python\n",
    "import heapq\n",
    "```\n",
    "\n",
    "TODO: heapify, heappush, heappop, heappushpop"
   ]
  },
  {
   "cell_type": "markdown",
   "metadata": {},
   "source": [
    "### Counters\n",
    "```python\n",
    "from collections import Counter\n",
    "```"
   ]
  },
  {
   "cell_type": "markdown",
   "metadata": {},
   "source": [
    "### Queues\n",
    "```python\n",
    "from collections import deque\n",
    "```\n",
    "\n",
    "TODO: append, pop, appendleft, popleft"
   ]
  },
  {
   "cell_type": "markdown",
   "metadata": {},
   "source": [
    "### Lists\n",
    "TODO: append, pop, and less commonly insert"
   ]
  },
  {
   "cell_type": "markdown",
   "metadata": {},
   "source": [
    "### Tuples\n",
    "A tuple can have just one value, like `(7, )`, but it needs a comma to identify it as a tuple."
   ]
  },
  {
   "cell_type": "markdown",
   "metadata": {},
   "source": [
    "### Dict\n",
    "TODO: keys, values, items"
   ]
  },
  {
   "cell_type": "markdown",
   "metadata": {},
   "source": [
    "## Syntax\n",
    "\n",
    "- [lambdas](###-Lambdas:-Anonymous-Functions)\n",
    "- `sort` vs `sorted`\n",
    "- unpacking operator `*` and keyword argument unpacking operator `**`\n",
    "- zip\n",
    "- itertools.chain\n",
    "- @cache\n",
    "- dataclasses"
   ]
  },
  {
   "cell_type": "markdown",
   "metadata": {},
   "source": [
    "### Lambdas: Anonymous Functions\n",
    "A `lambda` is an anonymous function. For example, `anonymous_func` could also be lambda `a`:\n",
    "\n",
    "```python\n",
    "def anonymous_func(x):\n",
    "    return x + 3\n",
    "anonymous_func(10)  # Call anonymous func with argument 10\n",
    "```"
   ]
  },
  {
   "cell_type": "code",
   "execution_count": 1,
   "metadata": {},
   "outputs": [
    {
     "data": {
      "text/plain": [
       "13"
      ]
     },
     "execution_count": 1,
     "metadata": {},
     "output_type": "execute_result"
    }
   ],
   "source": [
    "a = lambda x: x + 3\n",
    "a(10)  # Call lambda func with argument 10"
   ]
  },
  {
   "cell_type": "markdown",
   "metadata": {},
   "source": [
    "Usually you wouldn't assign a name to a lambda. Instead, you'd use `def` to create a standard function.\n",
    "\n",
    "One example of a lambda's utility, without being assigned a name, is as the `key` argument for a `sorted()` call:"
   ]
  },
  {
   "cell_type": "code",
   "execution_count": 2,
   "metadata": {},
   "outputs": [
    {
     "data": {
      "text/plain": [
       "[[2, 30], [3, 40], [1, 50]]"
      ]
     },
     "execution_count": 2,
     "metadata": {},
     "output_type": "execute_result"
    }
   ],
   "source": [
    "# Sort a list of lists based on the second element in each list\n",
    "entries = [[1, 50], [3, 40], [2, 30]]\n",
    "sorted(entries, key=lambda x: x[1])"
   ]
  },
  {
   "cell_type": "code",
   "execution_count": 3,
   "metadata": {},
   "outputs": [],
   "source": [
    "from itertools import chain\n",
    "\n",
    "x = [[1, 2, 3], [4, 5, 6], [7, 8, 9]]\n",
    "\n",
    "y = list(chain(*x))\n"
   ]
  }
 ],
 "metadata": {
  "kernelspec": {
   "display_name": "dsa",
   "language": "python",
   "name": "python3"
  },
  "language_info": {
   "codemirror_mode": {
    "name": "ipython",
    "version": 3
   },
   "file_extension": ".py",
   "mimetype": "text/x-python",
   "name": "python",
   "nbconvert_exporter": "python",
   "pygments_lexer": "ipython3",
   "version": "3.13.2"
  }
 },
 "nbformat": 4,
 "nbformat_minor": 2
}

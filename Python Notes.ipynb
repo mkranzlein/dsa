{
 "cells": [
  {
   "cell_type": "markdown",
   "metadata": {},
   "source": [
    "# Python Notes\n",
    "Useful data structures, syntax, and idioms for interviews focused on data structures and algorithms (DSA)\n"
   ]
  },
  {
   "cell_type": "markdown",
   "metadata": {},
   "source": [
    "## Relevant Python Data Structures\n",
    "- Heaps\n",
    "- Counters\n",
    "- Queues\n",
    "- defaultdict\n",
    "- set\n",
    "- list\n",
    "- tuples\n",
    "- dict"
   ]
  },
  {
   "cell_type": "markdown",
   "metadata": {},
   "source": [
    "### Heaps\n",
    "\n",
    "```python\n",
    "import heapq\n",
    "```\n",
    "\n",
    "TODO: heapify, heappush, heappop, heappushpop"
   ]
  },
  {
   "cell_type": "markdown",
   "metadata": {},
   "source": [
    "### Counters\n",
    "```python\n",
    "from collections import Counter\n",
    "```"
   ]
  },
  {
   "cell_type": "markdown",
   "metadata": {},
   "source": [
    "### Queues\n",
    "\n",
    "```python\n",
    "from collections import deque\n",
    "```\n",
    "\n",
    "TODO: append, pop, appendleft, popleft"
   ]
  },
  {
   "cell_type": "markdown",
   "metadata": {},
   "source": [
    "### Lists\n",
    "TODO: append, pop, and less commonly insert"
   ]
  },
  {
   "cell_type": "markdown",
   "metadata": {},
   "source": [
    "### Tuples\n",
    "A tuple can have just one value, like `(7, )`, but it needs a comma to identify it as a tuple."
   ]
  },
  {
   "cell_type": "markdown",
   "metadata": {},
   "source": [
    "### Dict\n",
    "TODO: keys, values, items"
   ]
  },
  {
   "cell_type": "markdown",
   "metadata": {},
   "source": [
    "## Syntax\n",
    "\n",
    "- [`lambda`](#lambdas-anonymous-functions)\n",
    "- `sorted()` vs. `.sort()`\n",
    "- Unpacking operator `*`\n",
    "- Keyword argument unpacking operator `**`\n",
    "- `zip()`\n",
    "- [`itertools.chain()`](#Flatten-a-list-of-lists-with-chain)\n",
    "- @cache decorator\n",
    "- dataclasses"
   ]
  },
  {
   "cell_type": "markdown",
   "metadata": {},
   "source": [
    "### Lambdas: Anonymous Functions\n",
    "A `lambda` is an anonymous function. For example, `regular_func` can also be lambda `a`:"
   ]
  },
  {
   "cell_type": "code",
   "execution_count": 1,
   "metadata": {},
   "outputs": [
    {
     "name": "stdout",
     "output_type": "stream",
     "text": [
      "Named function result: 13\n",
      "Lambda result: 13\n"
     ]
    }
   ],
   "source": [
    "def add_3(x):\n",
    "    return x + 3\n",
    "print(\"Named function result:\", add_3(10))  # Call anonymous func with argument 10\n",
    "\n",
    "a = lambda x: x + 3\n",
    "print(\"Lambda result:\", a(10))  # Call lambda func with argument 10"
   ]
  },
  {
   "cell_type": "markdown",
   "metadata": {},
   "source": [
    "Usually you wouldn't assign a name to a lambda—that defeats the purpose of a lambda. Instead, you'd use `def` to create a standard function.\n",
    "\n",
    "Lambdas are useful when you only need to use a function once, such as for the `key` argument in a `sorted()` call:"
   ]
  },
  {
   "cell_type": "code",
   "execution_count": 2,
   "metadata": {},
   "outputs": [
    {
     "data": {
      "text/plain": [
       "[[2, 30], [3, 40], [1, 50]]"
      ]
     },
     "execution_count": 2,
     "metadata": {},
     "output_type": "execute_result"
    }
   ],
   "source": [
    "# Sort a list of lists based on the second element in each list\n",
    "entries = [[1, 50], [3, 40], [2, 30]]\n",
    "sorted(entries, key=lambda x: x[1])"
   ]
  },
  {
   "cell_type": "markdown",
   "metadata": {},
   "source": [
    "Without lambdas, a function like `get_sort_key` would have to be defined in order to achieve the same behavior:"
   ]
  },
  {
   "cell_type": "code",
   "execution_count": 3,
   "metadata": {},
   "outputs": [
    {
     "data": {
      "text/plain": [
       "[[2, 30], [3, 40], [1, 50]]"
      ]
     },
     "execution_count": 3,
     "metadata": {},
     "output_type": "execute_result"
    }
   ],
   "source": [
    "def get_sort_key(x):\n",
    "    return x[1]\n",
    "\n",
    "sorted(entries, key=get_sort_key)"
   ]
  },
  {
   "cell_type": "markdown",
   "metadata": {},
   "source": [
    "### Flatten a list of lists with chain\n",
    "\n",
    "`chain` is a function from `itertools` that can combine the elements of multiple iteratables into one iterator. It can be combined with the unpacking operator `*` and `list` to easily flatten a list of lists. \n",
    "\n",
    "`chain(*x)` is just a more convenient way of writing `chain(x[0], x[1], x[2])`."
   ]
  },
  {
   "cell_type": "code",
   "execution_count": 4,
   "metadata": {},
   "outputs": [
    {
     "name": "stdout",
     "output_type": "stream",
     "text": [
      "[1, 2, 3, 4, 5, 6, 7, 8, 9]\n"
     ]
    }
   ],
   "source": [
    "from itertools import chain\n",
    "\n",
    "x = [[1, 2, 3], [4, 5, 6], [7, 8, 9]]\n",
    "\n",
    "flat_x = list(chain(*x))\n",
    "print(flat_x)"
   ]
  }
 ],
 "metadata": {
  "kernelspec": {
   "display_name": "dsa",
   "language": "python",
   "name": "python3"
  },
  "language_info": {
   "codemirror_mode": {
    "name": "ipython",
    "version": 3
   },
   "file_extension": ".py",
   "mimetype": "text/x-python",
   "name": "python",
   "nbconvert_exporter": "python",
   "pygments_lexer": "ipython3",
   "version": "3.13.2"
  }
 },
 "nbformat": 4,
 "nbformat_minor": 2
}
